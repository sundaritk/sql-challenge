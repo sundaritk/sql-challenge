{
 "cells": [
  {
   "cell_type": "code",
   "execution_count": 1,
   "metadata": {},
   "outputs": [],
   "source": [
    "import numpy as np\n",
    "import matplotlib.mlab as mlab\n",
    "import matplotlib.pyplot as plt\n",
    "%matplotlib inline\n",
    "from sqlalchemy import text\n",
    "from sqlalchemy import create_engine\n",
    "import pandas as pd"
   ]
  },
  {
   "cell_type": "code",
   "execution_count": 2,
   "metadata": {},
   "outputs": [
    {
     "name": "stdout",
     "output_type": "stream",
     "text": [
      "Connecting to the PostgreSQL database...\n"
     ]
    }
   ],
   "source": [
    "#!/usr/bin/python\n",
    "import psycopg2\n",
    "from config import config\n",
    " \n",
    "# read connection parameters\n",
    "params = config()\n",
    "# connect to the PostgreSQL server\n",
    "print('Connecting to the PostgreSQL database...')\n",
    "conn = psycopg2.connect(**params)"
   ]
  },
  {
   "cell_type": "code",
   "execution_count": 3,
   "metadata": {},
   "outputs": [
    {
     "data": {
      "text/html": [
       "<div>\n",
       "<style scoped>\n",
       "    .dataframe tbody tr th:only-of-type {\n",
       "        vertical-align: middle;\n",
       "    }\n",
       "\n",
       "    .dataframe tbody tr th {\n",
       "        vertical-align: top;\n",
       "    }\n",
       "\n",
       "    .dataframe thead th {\n",
       "        text-align: right;\n",
       "    }\n",
       "</style>\n",
       "<table border=\"1\" class=\"dataframe\">\n",
       "  <thead>\n",
       "    <tr style=\"text-align: right;\">\n",
       "      <th></th>\n",
       "      <th>emp_no</th>\n",
       "      <th>last_name</th>\n",
       "      <th>first_name</th>\n",
       "      <th>gender</th>\n",
       "      <th>salary</th>\n",
       "    </tr>\n",
       "  </thead>\n",
       "  <tbody>\n",
       "    <tr>\n",
       "      <th>0</th>\n",
       "      <td>10001</td>\n",
       "      <td>Facello</td>\n",
       "      <td>Georgi</td>\n",
       "      <td>M</td>\n",
       "      <td>60117</td>\n",
       "    </tr>\n",
       "    <tr>\n",
       "      <th>1</th>\n",
       "      <td>10005</td>\n",
       "      <td>Maliniak</td>\n",
       "      <td>Kyoichi</td>\n",
       "      <td>M</td>\n",
       "      <td>78228</td>\n",
       "    </tr>\n",
       "    <tr>\n",
       "      <th>2</th>\n",
       "      <td>10010</td>\n",
       "      <td>Piveteau</td>\n",
       "      <td>Duangkaew</td>\n",
       "      <td>F</td>\n",
       "      <td>72488</td>\n",
       "    </tr>\n",
       "    <tr>\n",
       "      <th>3</th>\n",
       "      <td>10011</td>\n",
       "      <td>Sluis</td>\n",
       "      <td>Mary</td>\n",
       "      <td>F</td>\n",
       "      <td>42365</td>\n",
       "    </tr>\n",
       "    <tr>\n",
       "      <th>4</th>\n",
       "      <td>10013</td>\n",
       "      <td>Terkki</td>\n",
       "      <td>Eberhardt</td>\n",
       "      <td>M</td>\n",
       "      <td>40000</td>\n",
       "    </tr>\n",
       "    <tr>\n",
       "      <th>5</th>\n",
       "      <td>10017</td>\n",
       "      <td>Bouloucos</td>\n",
       "      <td>Cristinel</td>\n",
       "      <td>F</td>\n",
       "      <td>71380</td>\n",
       "    </tr>\n",
       "    <tr>\n",
       "      <th>6</th>\n",
       "      <td>10018</td>\n",
       "      <td>Peha</td>\n",
       "      <td>Kazuhide</td>\n",
       "      <td>F</td>\n",
       "      <td>55881</td>\n",
       "    </tr>\n",
       "    <tr>\n",
       "      <th>7</th>\n",
       "      <td>10019</td>\n",
       "      <td>Haddadi</td>\n",
       "      <td>Lillian</td>\n",
       "      <td>M</td>\n",
       "      <td>44276</td>\n",
       "    </tr>\n",
       "    <tr>\n",
       "      <th>8</th>\n",
       "      <td>10026</td>\n",
       "      <td>Berztiss</td>\n",
       "      <td>Yongqiao</td>\n",
       "      <td>M</td>\n",
       "      <td>47585</td>\n",
       "    </tr>\n",
       "    <tr>\n",
       "      <th>9</th>\n",
       "      <td>10035</td>\n",
       "      <td>Chappelet</td>\n",
       "      <td>Alain</td>\n",
       "      <td>M</td>\n",
       "      <td>41538</td>\n",
       "    </tr>\n",
       "  </tbody>\n",
       "</table>\n",
       "</div>"
      ],
      "text/plain": [
       "   emp_no  last_name first_name gender  salary\n",
       "0   10001    Facello     Georgi      M   60117\n",
       "1   10005   Maliniak    Kyoichi      M   78228\n",
       "2   10010   Piveteau  Duangkaew      F   72488\n",
       "3   10011      Sluis       Mary      F   42365\n",
       "4   10013     Terkki  Eberhardt      M   40000\n",
       "5   10017  Bouloucos  Cristinel      F   71380\n",
       "6   10018       Peha   Kazuhide      F   55881\n",
       "7   10019    Haddadi    Lillian      M   44276\n",
       "8   10026   Berztiss   Yongqiao      M   47585\n",
       "9   10035  Chappelet      Alain      M   41538"
      ]
     },
     "execution_count": 3,
     "metadata": {},
     "output_type": "execute_result"
    }
   ],
   "source": [
    "#1 List the following details of each employee: employee number, last name, first name, gender, and salary.\n",
    "employees = pd.read_sql('select employees.emp_no, last_name, first_name, gender, salary from employees inner join salaries on employees.emp_no=salaries.emp_no', conn, parse_dates=['birth_date', 'hire_date'])\n",
    "employees.head(10)"
   ]
  },
  {
   "cell_type": "code",
   "execution_count": 4,
   "metadata": {},
   "outputs": [
    {
     "data": {
      "image/png": "[encoded data removed]",
      "text/plain": [
       "<Figure size 432x288 with 1 Axes>"
      ]
     },
     "metadata": {
      "needs_background": "light"
     },
     "output_type": "display_data"
    }
   ],
   "source": [
    "#Create a histogram to visualize the most common salary ranges for employees\n",
    "x = employees['salary']\n",
    "num_bins = 5\n",
    "n, bins, patches = plt.hist(x, num_bins, facecolor='blue', alpha=0.5)\n",
    "plt.xlabel(\"Salary\")\n",
    "plt.ylabel(\"Number of Employees\")\n",
    "plt.title(\"Number of Employees by Salary\")\n",
    "plt.show()"
   ]
  },
  {
   "cell_type": "code",
   "execution_count": 5,
   "metadata": {},
   "outputs": [
    {
     "data": {
      "text/html": [
       "<div>\n",
       "<style scoped>\n",
       "    .dataframe tbody tr th:only-of-type {\n",
       "        vertical-align: middle;\n",
       "    }\n",
       "\n",
       "    .dataframe tbody tr th {\n",
       "        vertical-align: top;\n",
       "    }\n",
       "\n",
       "    .dataframe thead th {\n",
       "        text-align: right;\n",
       "    }\n",
       "</style>\n",
       "<table border=\"1\" class=\"dataframe\">\n",
       "  <thead>\n",
       "    <tr style=\"text-align: right;\">\n",
       "      <th></th>\n",
       "      <th>title</th>\n",
       "      <th>avg_salary</th>\n",
       "    </tr>\n",
       "  </thead>\n",
       "  <tbody>\n",
       "    <tr>\n",
       "      <th>0</th>\n",
       "      <td>Assistant Engineer</td>\n",
       "      <td>48493.204786</td>\n",
       "    </tr>\n",
       "    <tr>\n",
       "      <th>1</th>\n",
       "      <td>Engineer</td>\n",
       "      <td>48539.781423</td>\n",
       "    </tr>\n",
       "    <tr>\n",
       "      <th>2</th>\n",
       "      <td>Manager</td>\n",
       "      <td>51531.041667</td>\n",
       "    </tr>\n",
       "    <tr>\n",
       "      <th>3</th>\n",
       "      <td>Senior Engineer</td>\n",
       "      <td>48506.751806</td>\n",
       "    </tr>\n",
       "    <tr>\n",
       "      <th>4</th>\n",
       "      <td>Senior Staff</td>\n",
       "      <td>58503.286614</td>\n",
       "    </tr>\n",
       "    <tr>\n",
       "      <th>5</th>\n",
       "      <td>Staff</td>\n",
       "      <td>58465.271904</td>\n",
       "    </tr>\n",
       "    <tr>\n",
       "      <th>6</th>\n",
       "      <td>Technique Leader</td>\n",
       "      <td>48580.505772</td>\n",
       "    </tr>\n",
       "  </tbody>\n",
       "</table>\n",
       "</div>"
      ],
      "text/plain": [
       "                title    avg_salary\n",
       "0  Assistant Engineer  48493.204786\n",
       "1            Engineer  48539.781423\n",
       "2             Manager  51531.041667\n",
       "3     Senior Engineer  48506.751806\n",
       "4        Senior Staff  58503.286614\n",
       "5               Staff  58465.271904\n",
       "6    Technique Leader  48580.505772"
      ]
     },
     "execution_count": 5,
     "metadata": {},
     "output_type": "execute_result"
    }
   ],
   "source": [
    "#Create a bar chart of average salary by title\n",
    "\n",
    "salarybytitle = pd.read_sql('select title, avg(salary ) as avg_salary from salaries inner join titles on salaries.emp_no=titles.emp_no group by title', conn)\n",
    "salarybytitle.head(10)"
   ]
  },
  {
   "cell_type": "code",
   "execution_count": 22,
   "metadata": {},
   "outputs": [
    {
     "data": {
      "image/png": "[encoded data removed]",
      "text/plain": [
       "<Figure size 432x288 with 1 Axes>"
      ]
     },
     "metadata": {
      "needs_background": "light"
     },
     "output_type": "display_data"
    }
   ],
   "source": [
    "plt.bar(salarybytitle['title'],salarybytitle['avg_salary'])\n",
    "plt.xlabel(\"Title\")\n",
    "plt.ylabel(\"Avg Salary of Employees\")\n",
    "plt.title(\"Avg Salary of Employees by Title\")\n",
    "plt.tight_layout()\n",
    "plt.xticks(rotation=90)\n",
    "plt.show()"
   ]
  },
  {
   "cell_type": "code",
   "execution_count": 23,
   "metadata": {},
   "outputs": [
    {
     "name": "stdout",
     "output_type": "stream",
     "text": [
      "Database connection closed.\n"
     ]
    }
   ],
   "source": [
    "conn.close()\n",
    "print('Database connection closed.')"
   ]
  },
  {
   "cell_type": "code",
   "execution_count": null,
   "metadata": {},
   "outputs": [],
   "source": []
  }
 ],
 "metadata": {
  "kernelspec": {
   "display_name": "Python 3",
   "language": "python",
   "name": "python3"
  },
  "language_info": {
   "codemirror_mode": {
    "name": "ipython",
    "version": 3
   },
   "file_extension": ".py",
   "mimetype": "text/x-python",
   "name": "python",
   "nbconvert_exporter": "python",
   "pygments_lexer": "ipython3",
   "version": "3.6.9"
  }
 },
 "nbformat": 4,
 "nbformat_minor": 4
}
